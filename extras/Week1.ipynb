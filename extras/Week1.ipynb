{
 "cells": [
  {
   "cell_type": "markdown",
   "metadata": {},
   "source": [
    "# Greenhouse Gas Emissions Prediction - Week 1"
   ]
  },
  {
   "cell_type": "markdown",
   "metadata": {
    "id": "SWXs5BkVTNKF"
   },
   "source": [
    "## Objective\n",
    "- Load and explore the Excel dataset containing supply chain emission factors and data quality metrics.\n",
    "- Combine relevant sheets into a single dataset.\n",
    "- Preprocess the data by selecting the required features and cleaning missing values.\n"
   ]
  },
  {
   "cell_type": "code",
   "execution_count": null,
   "metadata": {
    "id": "vJ6dQmeX-2ha",
    "scrolled": true
   },
   "outputs": [],
   "source": [
    "# Importing libraries\n",
    "import pandas as pd\n",
    "\n",
    "# Load the Excel file\n",
    "excel_path = \"Data_Set.xlsx\"\n",
    "excel_file = pd.ExcelFile(excel_path)\n",
    "\n",
    "# Display all sheet names\n",
    "excel_file.sheet_names"
   ]
  },
  {
   "cell_type": "markdown",
   "metadata": {
    "id": "WPupxDaqYcZa"
   },
   "source": [
    "## Selecting Sheets\n",
    "We will select all sheets that end with `_Summary_Commodity`.\n"
   ]
  },
  {
   "cell_type": "code",
   "execution_count": null,
   "metadata": {
    "id": "pktWpbQ1YkP9",
    "scrolled": true
   },
   "outputs": [],
   "source": [
    "# Filter sheet names\n",
    "commodity_sheets = [sheet for sheet in excel_file.sheet_names if sheet.endswith('_Summary_Commodity')]\n",
    "commodity_sheets"
   ]
  },
  {
   "cell_type": "markdown",
   "metadata": {
    "id": "WPupxDaqYcZa"
   },
   "source": [
    "### Loading and Combining Data\n",
    "Load data from the selected sheets and concatenate into a single DataFrame."
   ]
  },
  {
   "cell_type": "code",
   "execution_count": null,
   "metadata": {},
   "outputs": [],
   "source": [
    "# Define feature columns and target\n",
    "feature_cols = [\n",
    "    'Supply Chain Emission Factors without Margins',\n",
    "    'Margins of Supply Chain Emission Factors',\n",
    "    'DQ ReliabilityScore of Factors without Margins',\n",
    "    'DQ TemporalCorrelation of Factors without Margins',\n",
    "    'DQ GeographicalCorrelation of Factors without Margins',\n",
    "    'DQ TechnologicalCorrelation of Factors without Margins',\n",
    "    'DQ DataCollection of Factors without Margins'\n",
    "]\n",
    "target_col = 'Supply Chain Emission Factors with Margins'\n",
    "\n",
    "# Load and clean\n",
    "dataframes = []\n",
    "for sheet in commodity_sheets:\n",
    "    df = pd.read_excel(excel_path, sheet_name=sheet)\n",
    "    if all(col in df.columns for col in feature_cols + [target_col]):\n",
    "        df = df[feature_cols + [target_col]].dropna()\n",
    "        dataframes.append(df)\n",
    "\n",
    "# Combine all sheets\n",
    "combined_df = pd.concat(dataframes, ignore_index=True)\n",
    "combined_df.head()"
   ]
  },
  {
   "cell_type": "markdown",
   "metadata": {},
   "source": [
    "### Summary\n",
    "The dataset has been successfully loaded and preprocessed for further analysis.\n"
   ]
  }
 ],
 "metadata": {
  "colab": {
   "authorship_tag": "ABX9TyPx25IH4j8X1FFnMiR8GnJd",
   "include_colab_link": true,
   "provenance": []
  },
  "kernelspec": {
   "display_name": "Python 3 (ipykernel)",
   "language": "python",
   "name": "python3"
  },
  "language_info": {
   "codemirror_mode": {
    "name": "ipython",
    "version": 3
   },
   "file_extension": ".py",
   "mimetype": "text/x-python",
   "name": "python",
   "nbconvert_exporter": "python",
   "pygments_lexer": "ipython3",
   "version": "3.13.5"
  }
 },
 "nbformat": 4,
 "nbformat_minor": 4
}
