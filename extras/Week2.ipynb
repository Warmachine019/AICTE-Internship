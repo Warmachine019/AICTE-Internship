{
 "cells": [
  {
   "cell_type": "markdown",
   "id": "f9b4f023-7d42-48ce-b0ec-4439bca08d09",
   "metadata": {},
   "source": [
    "## Week 2\n",
    "\n",
    "### Objective\n",
    "- Split the dataset into training and testing sets.\n",
    "- Scale the features.\n",
    "- Train a Random Forest Regressor model.\n",
    "- Evaluate model performance.\n"
   ]
  },
  {
   "cell_type": "code",
   "execution_count": null,
   "id": "0c3be0d8-1112-4fe2-84c1-4de387ad4895",
   "metadata": {},
   "outputs": [],
   "source": [
    "# Import libraries\n",
    "from sklearn.model_selection import train_test_split\n",
    "from sklearn.preprocessing import StandardScaler\n",
    "from sklearn.ensemble import RandomForestRegressor\n",
    "from sklearn.metrics import mean_squared_error\n"
   ]
  },
  {
   "cell_type": "markdown",
   "id": "eb7f88c7-7333-4ba2-9e36-a80172788fb0",
   "metadata": {},
   "source": [
    "### Splitting Data\n",
    "Separate the features and target variable, and create train/test splits.\n"
   ]
  },
  {
   "cell_type": "code",
   "execution_count": null,
   "id": "09915e60-a70e-4283-bb4f-ed1779d83f02",
   "metadata": {},
   "outputs": [],
   "source": [
    "X = combined_df[feature_cols]\n",
    "y = combined_df[target_col]\n",
    "\n",
    "X_train, X_test, y_train, y_test = train_test_split(\n",
    "    X, y, test_size=0.2, random_state=42\n",
    ")"
   ]
  },
  {
   "cell_type": "markdown",
   "id": "4138f1cb-a64a-4153-804d-37c931bb1895",
   "metadata": {},
   "source": [
    "### Scaling Features\n",
    "Apply standard scaling to normalize feature ranges.\n"
   ]
  },
  {
   "cell_type": "code",
   "execution_count": null,
   "id": "37806bcc-500b-44ac-bcd6-01a2613eb105",
   "metadata": {},
   "outputs": [],
   "source": [
    "scaler = StandardScaler()\n",
    "X_train_scaled = scaler.fit_transform(X_train)\n",
    "X_test_scaled = scaler.transform(X_test)\n"
   ]
  },
  {
   "cell_type": "markdown",
   "id": "abb28455-00be-4bae-910c-38c96629ad94",
   "metadata": {},
   "source": [
    "### Training the Model\n",
    "Train a Random Forest Regressor on the scaled data.\n"
   ]
  },
  {
   "cell_type": "markdown",
   "id": "ae4e73ef-9d89-44d8-91a9-690b452c86df",
   "metadata": {},
   "source": [
    "model = RandomForestRegressor(n_estimators=100, random_state=42)\n",
    "model.fit(X_train_scaled, y_train)"
   ]
  },
  {
   "cell_type": "markdown",
   "id": "a2d7d460-f4cb-4891-9f9d-aea1991e402a",
   "metadata": {},
   "source": [
    "### Evaluating Performance\n",
    "Use Mean Squared Error to evaluate the model.\n"
   ]
  },
  {
   "cell_type": "code",
   "execution_count": null,
   "id": "eefbd067-6aa0-4a68-baed-7b387033a0e2",
   "metadata": {},
   "outputs": [],
   "source": [
    "y_pred = model.predict(X_test_scaled)\n",
    "mse = mean_squared_error(y_test, y_pred)\n",
    "print(\"Mean Squared Error:\", mse)"
   ]
  },
  {
   "cell_type": "markdown",
   "id": "67bca2ed-84c4-49e4-abe3-914410d12451",
   "metadata": {},
   "source": [
    "### Summary\n",
    "The Random Forest Regressor has been trained and evaluated. The model is ready for deployment.\n"
   ]
  }
 ],
 "metadata": {
  "kernelspec": {
   "display_name": "Python 3 (ipykernel)",
   "language": "python",
   "name": "python3"
  },
  "language_info": {
   "codemirror_mode": {
    "name": "ipython",
    "version": 3
   },
   "file_extension": ".py",
   "mimetype": "text/x-python",
   "name": "python",
   "nbconvert_exporter": "python",
   "pygments_lexer": "ipython3",
   "version": "3.13.5"
  }
 },
 "nbformat": 4,
 "nbformat_minor": 5
}
