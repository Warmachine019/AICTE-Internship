{
 "cells": [
  {
   "cell_type": "markdown",
   "id": "8e60a42d-be8b-425c-80af-f2383113bdc8",
   "metadata": {},
   "source": [
    "## Week 3\n",
    "\n",
    "### Objective\n",
    "- Save the trained model and scaler.\n",
    "- Build a Streamlit web application for user input and predictions.\n"
   ]
  },
  {
   "cell_type": "code",
   "execution_count": null,
   "id": "ca415fde-f362-4b03-bc0d-5cb0b6aee800",
   "metadata": {},
   "outputs": [],
   "source": [
    "# Import joblib to save model\n",
    "import joblib\n",
    "\n",
    "# Save model and scaler\n",
    "joblib.dump(model, \"random_forest_model.pkl\")\n",
    "joblib.dump(scaler, \"scaler.pkl\")\n",
    "joblib.dump(feature_cols, \"feature_columns.pkl\")\n"
   ]
  },
  {
   "cell_type": "markdown",
   "id": "d9c6f7ba-b61d-4fa3-96a0-da643d54b860",
   "metadata": {},
   "source": [
    "### Streamlit App Overview\n",
    "We will create a Streamlit app that:\n",
    "- Accepts user input parameters.\n",
    "- Applies scaling.\n",
    "- Uses the trained model to predict emissions."
   ]
  },
  {
   "cell_type": "markdown",
   "id": "ec925433-657d-4742-9f03-ad40c3daca52",
   "metadata": {},
   "source": [
    "### Example Streamlit Code\n",
    "Below is an example of the Streamlit application code:\n",
    "\n",
    "```python\n",
    "import streamlit as st\n",
    "import pandas as pd\n",
    "import joblib\n",
    "\n",
    "model = joblib.load(\"random_forest_model.pkl\")\n",
    "scaler = joblib.load(\"scaler.pkl\")\n",
    "feature_cols = joblib.load(\"feature_columns.pkl\")\n",
    "\n",
    "st.title(\"Supply Chain Emissions Predictor\")\n",
    "\n",
    "with st.form(\"form\"):\n",
    "    supply_wo_margin = st.number_input(\"Emission Factor without Margins\", min_value=0.0)\n",
    "    margin = st.number_input(\"Margin of Emission Factor\", min_value=0.0)\n",
    "    dq_reliability = st.slider(\"DQ Reliability\", 0.0, 5.0)\n",
    "    dq_temporal = st.slider(\"DQ Temporal Correlation\", 0.0, 5.0)\n",
    "    dq_geo = st.slider(\"DQ Geographical Correlation\", 0.0, 5.0)\n",
    "    dq_tech = st.slider(\"DQ Technological Correlation\", 0.0, 5.0)\n",
    "    dq_data = st.slider(\"DQ Data Collection\", 0.0, 5.0)\n",
    "    submit = st.form_submit_button(\"Predict\")\n",
    "\n",
    "if submit:\n",
    "    input_data = {\n",
    "        \"Supply Chain Emission Factors without Margins\": supply_wo_margin,\n",
    "        \"Margins of Supply Chain Emission Factors\": margin,\n",
    "        \"DQ ReliabilityScore of Factors without Margins\": dq_reliability,\n",
    "        \"DQ TemporalCorrelation of Factors without Margins\": dq_temporal,\n",
    "        \"DQ GeographicalCorrelation of Factors without Margins\": dq_geo,\n",
    "        \"DQ TechnologicalCorrelation of Factors without Margins\": dq_tech,\n",
    "        \"DQ DataCollection of Factors without Margins\": dq_data\n",
    "    }\n",
    "    input_df = pd.DataFrame([input_data])\n",
    "    input_df = input_df[feature_cols]\n",
    "    input_scaled = scaler.transform(input_df)\n",
    "    prediction = model.predict(input_scaled)\n",
    "    st.success(f\"Predicted Emission Factor: {prediction[0]:.4f}\")\n"
   ]
  },
  {
   "cell_type": "markdown",
   "id": "e95b45c7-1199-4c7b-b02d-020e30bcaaf4",
   "metadata": {},
   "source": [
    "### Summary\n",
    "The model and scaler have been saved. The Streamlit application provides an interactive interface for making predictions."
   ]
  }
 ],
 "metadata": {
  "kernelspec": {
   "display_name": "Python 3 (ipykernel)",
   "language": "python",
   "name": "python3"
  },
  "language_info": {
   "codemirror_mode": {
    "name": "ipython",
    "version": 3
   },
   "file_extension": ".py",
   "mimetype": "text/x-python",
   "name": "python",
   "nbconvert_exporter": "python",
   "pygments_lexer": "ipython3",
   "version": "3.13.5"
  }
 },
 "nbformat": 4,
 "nbformat_minor": 5
}
